{
 "cells": [
  {
   "cell_type": "code",
   "execution_count": 19,
   "metadata": {},
   "outputs": [],
   "source": [
    "import pandas as pd\n",
    "import numpy as np\n",
    "import matplotlib.pyplot as plt\n",
    "from sklearn.utils import shuffle\n",
    "import gc\n",
    "\n",
    "np.random.seed(42)\n",
    "import sys\n",
    "sys.path.insert(0, '../scripts/')"
   ]
  },
  {
   "cell_type": "markdown",
   "metadata": {},
   "source": [
    "## Import LHCO 2020 dataset\n",
    "\n",
    "The dataset is available here: https://zenodo.org/record/4536377#.YZgz2L3ML0o\n",
    "\n",
    "* It consists of 1M QCD dijet events, 100k W'->XY (2-prong) events, with X->qq and Y->qq and 100k W'->XY (3-prong) events, with X->qqq and Y->qqq. The events are randomly shuffled together.\n",
    "* A signal/background truth label for each event is provided to identify the signal and background events.\n",
    "* The W', X, and Y masses are 3.5 TeV, 500 GeV and 100 GeV respectively."
   ]
  },
  {
   "cell_type": "code",
   "execution_count": 2,
   "metadata": {},
   "outputs": [],
   "source": [
    "# R&D Dataset for LHC Olympics 2020 Anomaly Detection Challenge\n",
    "# https://zenodo.org/record/4536377#.YZgz2L3ML0o\n",
    "\n",
    "# Original R&D dataset: Pythia QCD + W' signal (2-prong)\n",
    "pythia_raw = pd.read_hdf(\"/home/elham/anomaly_detection/anomaly-detection/data/events_anomalydetection_v2.features.h5\")\n",
    "\n",
    "# Original R&D dataset: W' signal (3-prong)\n",
    "signal_3prong_raw = pd.read_hdf(\"/home/elham/anomaly_detection/anomaly-detection/data/events_anomalydetection_Z_XY_qqq.features.h5\")\n",
    "\n",
    "# Extra R&D dataset (SR): Pythia QCD \n",
    "pythia_extra1_raw = pd.read_hdf(\"/home/elham/anomaly_detection/anomaly-detection/data/events_anomalydetection_DelphesPythia8_v2_qcd_extra_inneronly_features.h5\")\n",
    "pythia_extra2_raw = pd.read_hdf(\"/home/elham/anomaly_detection/anomaly-detection/data/events_anomalydetection_DelphesPythia8_v2_qcd_extra_inneronly_batch2_features.h5\")\n"
   ]
  },
  {
   "cell_type": "code",
   "execution_count": 3,
   "metadata": {},
   "outputs": [
    {
     "name": "stdout",
     "output_type": "stream",
     "text": [
      "====== Background Shape ======\n",
      "LHCO R&D bkg + signal shape:  (1100000, 15)\n",
      "\n",
      "====== Background Shape ======\n",
      "Extra (batch 1) bkg shape:  (312858, 14)\n",
      "Extra (batch 2) bkg shape:  (300000, 14)\n",
      "\n",
      "====== Signal Shape ======\n",
      "LHCO R&D signal (3-prong) shape:  (100000, 14)\n"
     ]
    }
   ],
   "source": [
    "print (\"====== Background Shape ======\")\n",
    "print (\"LHCO R&D bkg + signal shape: \", pythia_raw.shape)\n",
    "print (\"\")\n",
    "print (\"====== Background Shape ======\")\n",
    "print (\"Extra (batch 1) bkg shape: \", pythia_extra1_raw.shape)\n",
    "print (\"Extra (batch 2) bkg shape: \", pythia_extra2_raw.shape)\n",
    "print (\"\")\n",
    "print (\"====== Signal Shape ======\")\n",
    "print (\"LHCO R&D signal (3-prong) shape: \", signal_3prong_raw.shape)"
   ]
  },
  {
   "cell_type": "markdown",
   "metadata": {},
   "source": [
    "## Define Signal Region (SR) and SideBand Region (SB)"
   ]
  },
  {
   "cell_type": "code",
   "execution_count": 4,
   "metadata": {},
   "outputs": [],
   "source": [
    "# SB definition: mjj = [2.5, 3.3] U [3.7,10.0] TeV\n",
    "low_sb = 2500\n",
    "high_sb = 10000\n",
    "\n",
    "# SR definition: mjj = [3.3, 3.7] TeV\n",
    "low_sr = 3300\n",
    "high_sr = 3700"
   ]
  },
  {
   "cell_type": "markdown",
   "metadata": {},
   "source": [
    "# Load data\n",
    "## QCD background, 2-prong and 3-prong W' signal\n",
    "High level features ae used for this study.\n"
   ]
  },
  {
   "cell_type": "code",
   "execution_count": 5,
   "metadata": {},
   "outputs": [],
   "source": [
    "def load_data(input_frame):\n",
    "    \n",
    "    '''\n",
    "    Input: initial data-frame \n",
    "    Return: another data-frame with some extra variables\n",
    "    '''\n",
    "    \n",
    "    # copy the input_dataframe\n",
    "    output_frame = input_frame.copy()\n",
    "\n",
    "    gc.collect()\n",
    "    # Add more variables computed using the initial variables\n",
    "    # toal momentum\n",
    "    output_frame[\"pj1\"] = np.sqrt(output_frame[\"pxj1\"]**2 + output_frame[\"pyj1\"]**2 + output_frame[\"pzj1\"]**2)\n",
    "    output_frame[\"pj2\"] = np.sqrt(output_frame[\"pxj2\"]**2 + output_frame[\"pyj2\"]**2 + output_frame[\"pzj2\"]**2)\n",
    "    # transverse momentum\n",
    "    output_frame[\"ptj1\"] = np.sqrt(output_frame[\"pxj1\"]**2 + output_frame[\"pyj1\"]**2) # in GeV!\n",
    "    output_frame[\"ptj2\"] = np.sqrt(output_frame[\"pxj2\"]**2 + output_frame[\"pyj2\"]**2) # in GeV!\n",
    "    # energy\n",
    "    output_frame[\"ej1\"] = np.sqrt(output_frame[\"mj1\"]**2 + output_frame[\"pj1\"]**2)\n",
    "    output_frame[\"ej2\"] = np.sqrt(output_frame[\"mj2\"]**2 + output_frame[\"pj2\"]**2)\n",
    "    # dijet system\n",
    "    output_frame[\"ejj\"] = output_frame[\"ej1\"] + output_frame[\"ej2\"]\n",
    "    output_frame[\"pjj\"] = np.sqrt((output_frame[\"pxj1\"] + output_frame[\"pxj2\"])**2 + (output_frame[\"pyj1\"] + output_frame[\"pyj2\"])**2 + (output_frame[\"pzj1\"] + output_frame[\"pzj2\"])**2)\n",
    "    output_frame[\"mjj\"] = np.sqrt(output_frame[\"ejj\"]**2 - output_frame[\"pjj\"]**2)\n",
    "    # n-subjettiness ratios\n",
    "    output_frame[\"tau21j1\"] = output_frame[\"tau2j1\"] / output_frame[\"tau1j1\"]\n",
    "    output_frame[\"tau32j1\"] = output_frame[\"tau3j1\"] / output_frame[\"tau2j1\"]\n",
    "    output_frame[\"tau21j2\"] = output_frame[\"tau2j2\"] / output_frame[\"tau1j2\"]\n",
    "    output_frame[\"tau32j2\"] = output_frame[\"tau3j2\"] / output_frame[\"tau2j2\"]\n",
    "    # eta\n",
    "    output_frame[\"etaj1\"] = np.arctanh(output_frame[\"pzj1\"]/output_frame[\"pj1\"])\n",
    "    output_frame[\"etaj2\"] = np.arctanh(output_frame[\"pzj2\"]/output_frame[\"pj2\"])\n",
    "    # phi\n",
    "    output_frame[\"phij1\"] = np.arctan2(output_frame[\"pyj1\"],output_frame[\"pxj1\"])\n",
    "    output_frame[\"phij2\"] = np.arctan2(output_frame[\"pyj2\"],output_frame[\"pxj2\"])\n",
    "    output_frame.dropna(inplace = True)\n",
    "    output_frame.reset_index(drop = True, inplace = True)\n",
    "    return output_frame.astype('float32')"
   ]
  },
  {
   "cell_type": "code",
   "execution_count": 6,
   "metadata": {},
   "outputs": [],
   "source": [
    "df_sig_3prong_total = load_data(signal_3prong_raw)\n",
    "df_comb = load_data(pythia_raw)\n",
    "df_bkg_extra1 = load_data(pythia_extra1_raw)\n",
    "df_bkg_extra2 = load_data(pythia_extra2_raw)"
   ]
  },
  {
   "cell_type": "code",
   "execution_count": 7,
   "metadata": {},
   "outputs": [],
   "source": [
    "df_bkg = df_comb.loc[df_comb['label'] == 0]\n",
    "df_bkg.reset_index(drop = True, inplace = True)\n",
    "df_sig_2prong_total = df_comb.loc[df_comb['label'] == 1]\n",
    "df_sig_2prong_total.reset_index(drop = True, inplace = True)\n",
    "\n",
    "# Split 3-prong signal events into synthetic data and the rest used for training,validation,testing\n",
    "df_sig_2prong_data = df_sig_2prong_total[:1000]\n",
    "df_sig_2prong = df_sig_2prong_total[1000:]\n",
    "df_sig_2prong.reset_index(drop = True, inplace = True)\n",
    "\n",
    "# Split 3-prong signal events into synthetic data and the rest used for training,validation,testing\n",
    "df_sig_3prong_data = df_sig_3prong_total[:1000]\n",
    "df_sig_3prong = df_sig_3prong_total[1000:]\n",
    "df_sig_3prong.reset_index(drop = True, inplace = True)"
   ]
  },
  {
   "cell_type": "code",
   "execution_count": 8,
   "metadata": {},
   "outputs": [
    {
     "name": "stdout",
     "output_type": "stream",
     "text": [
      "====== Background Shape ======\n",
      "LHCO R&D bkg shape:  (999881, 32)\n",
      "Extra (batch 1) bkg shape:  (312823, 31)\n",
      "Extra (batch 2) bkg shape:  (299968, 31)\n",
      "\n",
      "====== Signal Shape ======\n",
      "LHCO R&D signal (2-prong) shape:  (98966, 32)\n",
      "LHCO R&D signal (3-prong) shape:  (98969, 31)\n",
      "\n",
      "====== Signal Shape (part of the synthetic data) ======\n",
      "Synthetic data signal (2-prong) shape:  (1000, 32)\n",
      "Synthetic data signal (3-prong) shape:  (1000, 31)\n"
     ]
    }
   ],
   "source": [
    "print (\"====== Background Shape ======\")\n",
    "print (\"LHCO R&D bkg shape: \", df_bkg.shape)\n",
    "print (\"Extra (batch 1) bkg shape: \", df_bkg_extra1.shape)\n",
    "print (\"Extra (batch 2) bkg shape: \", df_bkg_extra2.shape)\n",
    "print (\"\")\n",
    "print (\"====== Signal Shape ======\")\n",
    "print (\"LHCO R&D signal (2-prong) shape: \", df_sig_2prong.shape)\n",
    "print (\"LHCO R&D signal (3-prong) shape: \", df_sig_3prong.shape)\n",
    "print (\"\")\n",
    "print (\"====== Signal Shape (part of the synthetic data) ======\")\n",
    "print (\"Synthetic data signal (2-prong) shape: \", df_sig_2prong_data.shape)\n",
    "print (\"Synthetic data signal (3-prong) shape: \", df_sig_3prong_data.shape)\n"
   ]
  },
  {
   "cell_type": "code",
   "execution_count": 9,
   "metadata": {},
   "outputs": [
    {
     "data": {
      "text/plain": [
       "<matplotlib.legend.Legend at 0x7faaa1511550>"
      ]
     },
     "execution_count": 9,
     "metadata": {},
     "output_type": "execute_result"
    },
    {
     "data": {
      "image/png": "[encoded data removed]",
      "text/plain": [
       "<Figure size 576x432 with 1 Axes>"
      ]
     },
     "metadata": {
      "needs_background": "light"
     },
     "output_type": "display_data"
    }
   ],
   "source": [
    "plt.figure(figsize=(8,6))\n",
    "plt.xlim(2000,6000)\n",
    "plt.hist(df_bkg[\"mjj\"], np.linspace(0,10000,100), color=\"steelblue\", histtype='step', linewidth=2, label=\"background\",density=True)\n",
    "plt.hist(df_sig_3prong[\"mjj\"], np.linspace(0,10000,100), color=\"tomato\", histtype='step', linewidth=2, label=\"signal (3-prong)\",density=True)\n",
    "plt.hist(df_sig_2prong[\"mjj\"], np.linspace(0,10000,100), color=\"magenta\", histtype='step', linewidth=2, label=\"signal (2-prong)\",density=True)\n",
    "plt.xlabel(\"Dijet Mass [GeV]\")\n",
    "plt.axvline(low_sb, color=\"green\",ls='--')\n",
    "plt.axvline(low_sr, color=\"green\",ls='--')\n",
    "plt.axvline(high_sb, color=\"green\",ls='--')\n",
    "plt.axvline(high_sr, color=\"green\", ls='--')\n",
    "# plt.yscale('log')\n",
    "plt.ylabel(\"Number of Events / bin\")\n",
    "plt.legend(loc=\"upper right\")"
   ]
  },
  {
   "cell_type": "markdown",
   "metadata": {},
   "source": [
    "# Split dataset into SR and SB"
   ]
  },
  {
   "cell_type": "code",
   "execution_count": 10,
   "metadata": {},
   "outputs": [],
   "source": [
    "# Define sidebands and sig_2prongnal region\n",
    "df_bkg_SB = df_bkg[((df_bkg[\"mjj\"] > low_sb) & (df_bkg[\"mjj\"] < low_sr)) | ((df_bkg[\"mjj\"] > high_sr) & (df_bkg[\"mjj\"] < high_sb))]\n",
    "df_bkg_SR = df_bkg[(df_bkg[\"mjj\"] >= low_sr) & (df_bkg[\"mjj\"] <= high_sr)]\n",
    "\n",
    "df_sig_2prong_SB = df_sig_2prong[((df_sig_2prong[\"mjj\"] > low_sb) & (df_sig_2prong[\"mjj\"] < low_sr)) | ((df_sig_2prong[\"mjj\"] > high_sr) & (df_sig_2prong[\"mjj\"] < high_sb))]\n",
    "df_sig_2prong_SR = df_sig_2prong[(df_sig_2prong[\"mjj\"] >= low_sr) & (df_sig_2prong[\"mjj\"] <= high_sr)]\n",
    "\n",
    "df_sig_3prong_SB = df_sig_3prong[((df_sig_3prong[\"mjj\"] > low_sb) & (df_sig_3prong[\"mjj\"] < low_sr)) | ((df_sig_3prong[\"mjj\"] > high_sr) & (df_sig_3prong[\"mjj\"] < high_sb))]\n",
    "df_sig_3prong_SR = df_sig_3prong[(df_sig_3prong[\"mjj\"] >= low_sr) & (df_sig_3prong[\"mjj\"] <= high_sr)]\n",
    "\n",
    "df_sig_2prong_SB_data = df_sig_2prong_data[((df_sig_2prong_data[\"mjj\"] > low_sb) & (df_sig_2prong_data[\"mjj\"] < low_sr)) | ((df_sig_2prong_data[\"mjj\"] > high_sr) & (df_sig_2prong_data[\"mjj\"] < high_sb))]\n",
    "df_sig_2prong_SR_data = df_sig_2prong_data[(df_sig_2prong_data[\"mjj\"] >= low_sr) & (df_sig_2prong_data[\"mjj\"] <= high_sr)]\n",
    "\n",
    "df_sig_3prong_SB_data = df_sig_3prong_data[((df_sig_3prong_data[\"mjj\"] > low_sb) & (df_sig_3prong_data[\"mjj\"] < low_sr)) | ((df_sig_3prong_data[\"mjj\"] > high_sr) & (df_sig_3prong_data[\"mjj\"] < high_sb))]\n",
    "df_sig_3prong_SR_data = df_sig_3prong_data[(df_sig_3prong_data[\"mjj\"] >= low_sr) & (df_sig_3prong_data[\"mjj\"] <= high_sr)]\n",
    "\n",
    "for df in [df_bkg_SB, df_bkg_SR, df_sig_2prong_SB, df_sig_2prong_SR, df_sig_3prong_SB, df_sig_3prong_SR, df_sig_2prong_SB_data, df_sig_2prong_SR_data, df_sig_3prong_SB_data, df_sig_3prong_SR_data]:\n",
    "    df.reset_index(drop = True, inplace = True)"
   ]
  },
  {
   "cell_type": "code",
   "execution_count": 11,
   "metadata": {},
   "outputs": [
    {
     "name": "stdout",
     "output_type": "stream",
     "text": [
      "Size of uncut data:\n",
      "\n",
      "df_bg shape (999881, 32)\n",
      "df_sig (2-prong) shape (98966, 32)\n",
      "df_sig (3-prong) shape (98969, 31)\n",
      "df_bg_SB shape (680992, 32)\n",
      "df_sig_SB (2-prong) shape (23883, 32)\n",
      "df_sig_SB (3-prong) shape (19687, 31)\n",
      "df_sig_SB_data (2-prong) shape (218, 32)\n",
      "df_sig_SB_data (3-prong) shape (208, 31)\n",
      "df_bg_SR shape (121339, 32)\n",
      "df_bg_extra1 (batch 1) shape (312823, 31)\n",
      "df_bg_extra2 (batch 2) shape (299968, 31)\n",
      "df_sig_SR (2-prong) shape (74527, 32)\n",
      "df_sig_SR (3-prong) shape (78991, 31)\n",
      "df_sig_SR_data (2-prong) shape (772, 32)\n",
      "df_sig_SR_data (3-prong) shape (790, 31)\n",
      "\n"
     ]
    }
   ],
   "source": [
    "\n",
    "print(\"Size of uncut data:\")\n",
    "print(\"\")\n",
    "print(\"df_bg shape {}\".format(df_bkg.shape))\n",
    "print(\"df_sig (2-prong) shape {}\".format(df_sig_2prong.shape))\n",
    "print(\"df_sig (3-prong) shape {}\".format(df_sig_3prong.shape))\n",
    "print(\"df_bg_SB shape {}\".format(df_bkg_SB.shape))\n",
    "print(\"df_sig_SB (2-prong) shape {}\".format(df_sig_2prong_SB.shape))\n",
    "print(\"df_sig_SB (3-prong) shape {}\".format(df_sig_3prong_SB.shape))\n",
    "print(\"df_sig_SB_data (2-prong) shape {}\".format(df_sig_2prong_SB_data.shape))\n",
    "print(\"df_sig_SB_data (3-prong) shape {}\".format(df_sig_3prong_SB_data.shape))\n",
    "print(\"df_bg_SR shape {}\".format(df_bkg_SR.shape))\n",
    "print(\"df_bg_extra1 (batch 1) shape {}\".format(df_bkg_extra1.shape))\n",
    "print(\"df_bg_extra2 (batch 2) shape {}\".format(df_bkg_extra2.shape))\n",
    "print(\"df_sig_SR (2-prong) shape {}\".format(df_sig_2prong_SR.shape))\n",
    "print(\"df_sig_SR (3-prong) shape {}\".format(df_sig_3prong_SR.shape))\n",
    "print(\"df_sig_SR_data (2-prong) shape {}\".format(df_sig_2prong_SR_data.shape))\n",
    "print(\"df_sig_SR_data (3-prong) shape {}\".format(df_sig_3prong_SR_data.shape))\n",
    "print()"
   ]
  },
  {
   "cell_type": "markdown",
   "metadata": {},
   "source": [
    "# Check:  $\\geq 1$ jet with $p_T \\geq 1.2$ TeV and $|\\eta| < 2.5$ "
   ]
  },
  {
   "cell_type": "code",
   "execution_count": 12,
   "metadata": {},
   "outputs": [],
   "source": [
    "def cut_data(uncut_data, pTmin = 1199, etamax = 2.5):\n",
    "\n",
    "    # Column 0: ptj1\n",
    "    # Column 1: etaj1\n",
    "    # Column 3: ptj2\n",
    "    # Column 4: etaj2\n",
    "#     return uncut_data[(uncut_data[:,all_features.index(\"ptj1\")] > pTmin) | (uncut_data[:,all_features.index(\"ptj2\")] > pTmin)]\n",
    "    return uncut_data[((uncut_data[:,all_features.index(\"ptj1\")] > pTmin) & (np.abs(uncut_data[:,all_features.index(\"etaj1\")]) < etamax)) | ((uncut_data[:,all_features.index(\"ptj2\")] > pTmin) & (np.abs(uncut_data[:,all_features.index(\"etaj2\")]) < etamax))]\n",
    "\n"
   ]
  },
  {
   "cell_type": "code",
   "execution_count": 13,
   "metadata": {},
   "outputs": [],
   "source": [
    "def cut_dataframe(uncut_data, pTmin = 1199, etamax = 2.5):\n",
    "\n",
    "    # Column 0: ptj1\n",
    "    # Column 1: etaj1\n",
    "    # Column 3: ptj2\n",
    "    # Column 4: etaj2\n",
    "#     return uncut_data[(uncut_data[:,all_features.index(\"ptj1\")] > pTmin) | (uncut_data[:,all_features.index(\"ptj2\")] > pTmin)]\n",
    "    outdata = uncut_data[((uncut_data[\"ptj1\"] > pTmin) & (np.abs(uncut_data[\"etaj1\"]) < etamax)) | ((uncut_data[\"ptj2\"] > pTmin) & (np.abs(uncut_data[\"etaj2\"]) < etamax))]\n",
    "    outdata.reset_index(drop = True, inplace = True)\n",
    "    return outdata\n",
    "\n"
   ]
  },
  {
   "cell_type": "code",
   "execution_count": 14,
   "metadata": {},
   "outputs": [],
   "source": [
    "out_features = [\"ptj1\", \"etaj1\", \"phij1\", \"mj1\", \"ptj2\", \"etaj2\", \"phij2\", \"mj2\", \"tau21j1\", \"tau21j2\", \"tau32j1\", \"tau32j2\"]\n",
    "condition_features = [\"mjj\"]\n",
    "all_features = out_features + condition_features"
   ]
  },
  {
   "cell_type": "code",
   "execution_count": 15,
   "metadata": {},
   "outputs": [],
   "source": [
    "all_bkg_SB = cut_dataframe(df_bkg_SB[all_features])\n",
    "all_bkg_SR = cut_dataframe(df_bkg_SR[all_features])\n",
    "all_bkg_SR_extra1 = cut_dataframe(df_bkg_extra1[all_features])\n",
    "all_bkg_SR_extra2 = cut_dataframe(df_bkg_extra2[all_features])\n",
    "all_sig_2prong_SB = cut_dataframe(df_sig_2prong_SB[all_features])\n",
    "all_sig_2prong_SR = cut_dataframe(df_sig_2prong_SR[all_features])\n",
    "all_sig_3prong_SB = cut_dataframe(df_sig_3prong_SB[all_features])\n",
    "all_sig_3prong_SR = cut_dataframe(df_sig_3prong_SR[all_features])\n",
    "\n",
    "all_sig_2prong_SB_data = cut_dataframe(df_sig_2prong_SB_data[all_features])\n",
    "all_sig_2prong_SR_data = cut_dataframe(df_sig_2prong_SR_data[all_features])\n",
    "all_sig_3prong_SB_data = cut_dataframe(df_sig_3prong_SB_data[all_features])\n",
    "all_sig_3prong_SR_data = cut_dataframe(df_sig_3prong_SR_data[all_features])"
   ]
  },
  {
   "cell_type": "code",
   "execution_count": 16,
   "metadata": {},
   "outputs": [
    {
     "name": "stdout",
     "output_type": "stream",
     "text": [
      "Size of data after cut:\n",
      "\n",
      "all_bkg_SB shape (680992, 13)\n",
      "all_sig_2prong_SB (2-prong) shape (23883, 13)\n",
      "all_sig_3prong_SB (3-prong) shape (19687, 13)\n",
      "all_bkg_SR shape (121339, 13)\n",
      "all_bkg_SR_extra1 shape (312823, 13)\n",
      "all_bkg_SR_extra2 shape (299968, 13)\n",
      "all_sig_2prong_SR (2-prong) shape (74527, 13)\n",
      "all_sig_3prong_SR (3-prong) shape (78991, 13)\n",
      "all_sig_2prong_SR_data (2-prong) shape (772, 13)\n",
      "all_sig_3prong_SR_data (3-prong) shape (790, 13)\n",
      "\n"
     ]
    }
   ],
   "source": [
    "\n",
    "print(\"Size of data after cut:\")\n",
    "print(\"\")\n",
    "print(\"all_bkg_SB shape {}\".format(all_bkg_SB.shape))\n",
    "print(\"all_sig_2prong_SB (2-prong) shape {}\".format(all_sig_2prong_SB.shape))\n",
    "print(\"all_sig_3prong_SB (3-prong) shape {}\".format(all_sig_3prong_SB.shape))\n",
    "print(\"all_bkg_SR shape {}\".format(all_bkg_SR.shape))\n",
    "print(\"all_bkg_SR_extra1 shape {}\".format(all_bkg_SR_extra1.shape))\n",
    "print(\"all_bkg_SR_extra2 shape {}\".format(all_bkg_SR_extra2.shape))\n",
    "print(\"all_sig_2prong_SR (2-prong) shape {}\".format(all_sig_2prong_SR.shape))\n",
    "print(\"all_sig_3prong_SR (3-prong) shape {}\".format(all_sig_3prong_SR.shape))\n",
    "print(\"all_sig_2prong_SR_data (2-prong) shape {}\".format(all_sig_2prong_SR_data.shape))\n",
    "print(\"all_sig_3prong_SR_data (3-prong) shape {}\".format(all_sig_3prong_SR_data.shape))\n",
    "print()"
   ]
  },
  {
   "cell_type": "markdown",
   "metadata": {},
   "source": [
    "# SR dataset for Fully Supervised Training (FST) and Common Evaluation"
   ]
  },
  {
   "cell_type": "code",
   "execution_count": 17,
   "metadata": {},
   "outputs": [
    {
     "name": "stdout",
     "output_type": "stream",
     "text": [
      "Fully Supervised Training background sample shape (272500, 13)\n",
      "Test background sample shape (340291, 13)\n"
     ]
    }
   ],
   "source": [
    "shape_FST = 272500\n",
    "all_bkg_SR_FST  = all_bkg_SR_extra2[:shape_FST]\n",
    "all_bkg_SR_test = pd.concat([all_bkg_SR_extra1, all_bkg_SR_extra2[shape_FST:]])\n",
    "print(\"Fully Supervised Training background sample shape {}\".format(all_bkg_SR_FST.shape))\n",
    "print(\"Test background sample shape {}\".format(all_bkg_SR_test.shape))"
   ]
  },
  {
   "cell_type": "code",
   "execution_count": 20,
   "metadata": {},
   "outputs": [],
   "source": [
    "all_sig_2prong_SR = shuffle(all_sig_2prong_SR)\n",
    "all_sig_3prong_SR = shuffle(all_sig_3prong_SR)"
   ]
  },
  {
   "cell_type": "code",
   "execution_count": 21,
   "metadata": {
    "scrolled": true
   },
   "outputs": [
    {
     "name": "stdout",
     "output_type": "stream",
     "text": [
      "Fully Supervised Training signal (2-prong) sample shape (54500, 13)\n",
      "Fully Supervised Training signal (3-prong) sample shape (54500, 13)\n"
     ]
    }
   ],
   "source": [
    "all_sig_2prong_SR_FST = all_sig_2prong_SR[:54500]\n",
    "all_sig_3prong_SR_FST = all_sig_3prong_SR[:54500]\n",
    "print(\"Fully Supervised Training signal (2-prong) sample shape {}\".format(all_sig_2prong_SR_FST.shape))\n",
    "print(\"Fully Supervised Training signal (3-prong) sample shape {}\".format(all_sig_3prong_SR_FST.shape))"
   ]
  },
  {
   "cell_type": "code",
   "execution_count": 22,
   "metadata": {},
   "outputs": [
    {
     "name": "stdout",
     "output_type": "stream",
     "text": [
      "Test signal (2-prong) sample shape (20027, 13)\n",
      "Test signal (3-prong) sample shape (24491, 13)\n"
     ]
    }
   ],
   "source": [
    "all_sig_2prong_SR_test = all_sig_2prong_SR[54500:]\n",
    "all_sig_3prong_SR_test = all_sig_3prong_SR[54500:]\n",
    "print(\"Test signal (2-prong) sample shape {}\".format(all_sig_2prong_SR_test.shape))\n",
    "print(\"Test signal (3-prong) sample shape {}\".format(all_sig_3prong_SR_test.shape))"
   ]
  },
  {
   "cell_type": "markdown",
   "metadata": {},
   "source": [
    "# Save the dataset as h5 file"
   ]
  },
  {
   "cell_type": "code",
   "execution_count": 23,
   "metadata": {},
   "outputs": [],
   "source": [
    "outpath = \"/home/elham/anomaly_detection/data/cGAN_dataset/\"\n",
    "\n",
    "# QCD dataset used as background (SR, SB)\n",
    "all_bkg_SB.to_hdf(outpath+'bkg_SB_train.h5', key='df', mode='w')\n",
    "all_bkg_SR_FST.to_hdf(outpath+'bkg_SR_FST.h5', key='df', mode='w')\n",
    "all_bkg_SR_test.to_hdf(outpath+'bkg_SR_test.h5', key='df', mode='w')\n",
    "\n",
    "\n",
    "# Signal (2 & 3-prong) dataset (SR, SB)\n",
    "all_sig_2prong_SB.to_hdf(outpath+'sig_2prong_SB.h5', key='df', mode='w')\n",
    "all_sig_3prong_SB.to_hdf(outpath+'sig_3prong_SB.h5', key='df', mode='w')\n",
    "all_sig_2prong_SR_FST.to_hdf(outpath+'sig_2prong_SR_FST.h5', key='df', mode='w')\n",
    "all_sig_3prong_SR_FST.to_hdf(outpath+'sig_3prong_SR_FST.h5', key='df', mode='w')\n",
    "all_sig_2prong_SR_test.to_hdf(outpath+'sig_2prong_SR_test.h5', key='df', mode='w')\n",
    "all_sig_3prong_SR_test.to_hdf(outpath+'sig_3prong_SR_test.h5', key='df', mode='w')\n",
    "\n",
    "\n",
    "# QCD and signal events used as synthetic data (121k QCD + 700 W') in the SR\n",
    "all_bkg_SR.to_hdf(outpath+'synthdata_QCD_SR.h5', key='df', mode='w')\n",
    "all_sig_2prong_SR_data.to_hdf(outpath+'synthdata_2prong_sig_SR.h5', key='df', mode='w')\n",
    "all_sig_3prong_SR_data.to_hdf(outpath+'synthdata_3prong_sig_SR.h5', key='df', mode='w')\n"
   ]
  },
  {
   "cell_type": "code",
   "execution_count": null,
   "metadata": {},
   "outputs": [],
   "source": []
  }
 ],
 "metadata": {
  "kernelspec": {
   "display_name": "Python 3",
   "language": "python",
   "name": "python3"
  },
  "language_info": {
   "codemirror_mode": {
    "name": "ipython",
    "version": 3
   },
   "file_extension": ".py",
   "mimetype": "text/x-python",
   "name": "python",
   "nbconvert_exporter": "python",
   "pygments_lexer": "ipython3",
   "version": "3.7.7"
  }
 },
 "nbformat": 4,
 "nbformat_minor": 4
}
